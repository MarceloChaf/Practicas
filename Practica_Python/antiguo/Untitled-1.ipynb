{
 "cells": [
  {
   "cell_type": "code",
   "execution_count": 3,
   "metadata": {},
   "outputs": [
    {
     "name": "stdout",
     "output_type": "stream",
     "text": [
      "0.25\n"
     ]
    }
   ],
   "source": [
    "print(((3+2)/(2*5))**2)"
   ]
  },
  {
   "cell_type": "code",
   "execution_count": 5,
   "metadata": {},
   "outputs": [
    {
     "name": "stdout",
     "output_type": "stream",
     "text": [
      "la suma de todos los numeros hasta  5 es:  15.0\n"
     ]
    }
   ],
   "source": [
    "def suma (num):\n",
    "    print(\"la suma de todos los numeros hasta \",num,\"es: \",(num*(num+1))/2)\n",
    "\n",
    "num=int(input(\"ingrese un numero entero\"))\n",
    "suma(num)"
   ]
  },
  {
   "cell_type": "code",
   "execution_count": null,
   "metadata": {},
   "outputs": [],
   "source": []
  }
 ],
 "metadata": {
  "kernelspec": {
   "display_name": "Python 3.10.7 64-bit",
   "language": "python",
   "name": "python3"
  },
  "language_info": {
   "codemirror_mode": {
    "name": "ipython",
    "version": 3
   },
   "file_extension": ".py",
   "mimetype": "text/x-python",
   "name": "python",
   "nbconvert_exporter": "python",
   "pygments_lexer": "ipython3",
   "version": "3.10.7"
  },
  "orig_nbformat": 4,
  "vscode": {
   "interpreter": {
    "hash": "615c821b0c54259bf578c80242cef3a0f168da09281357b220a333db685ab442"
   }
  }
 },
 "nbformat": 4,
 "nbformat_minor": 2
}
